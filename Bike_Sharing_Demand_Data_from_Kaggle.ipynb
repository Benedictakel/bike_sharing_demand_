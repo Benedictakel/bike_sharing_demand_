{
  "nbformat": 4,
  "nbformat_minor": 0,
  "metadata": {
    "colab": {
      "provenance": [],
      "authorship_tag": "ABX9TyPL9E0qxP48YUJlWZyL+fe8",
      "include_colab_link": true
    },
    "kernelspec": {
      "name": "python3",
      "display_name": "Python 3"
    },
    "language_info": {
      "name": "python"
    }
  },
  "cells": [
    {
      "cell_type": "markdown",
      "metadata": {
        "id": "view-in-github",
        "colab_type": "text"
      },
      "source": [
        "<a href=\"https://colab.research.google.com/github/Benedictakel/bike_sharing_demand_/blob/main/Bike_Sharing_Demand_Data_from_Kaggle.ipynb\" target=\"_parent\"><img src=\"https://colab.research.google.com/assets/colab-badge.svg\" alt=\"Open In Colab\"/></a>"
      ]
    },
    {
      "cell_type": "code",
      "execution_count": null,
      "metadata": {
        "colab": {
          "base_uri": "https://localhost:8080/"
        },
        "id": "09Lc39UD8qyx",
        "outputId": "f9b0a187-6fef-4a05-c61b-61283e2a0ba0"
      },
      "outputs": [
        {
          "output_type": "stream",
          "name": "stdout",
          "text": [
            "Requirement already satisfied: kaggle in /usr/local/lib/python3.11/dist-packages (1.7.4.5)\n",
            "Requirement already satisfied: bleach in /usr/local/lib/python3.11/dist-packages (from kaggle) (6.2.0)\n",
            "Requirement already satisfied: certifi>=14.05.14 in /usr/local/lib/python3.11/dist-packages (from kaggle) (2025.4.26)\n",
            "Requirement already satisfied: charset-normalizer in /usr/local/lib/python3.11/dist-packages (from kaggle) (3.4.2)\n",
            "Requirement already satisfied: idna in /usr/local/lib/python3.11/dist-packages (from kaggle) (3.10)\n",
            "Requirement already satisfied: protobuf in /usr/local/lib/python3.11/dist-packages (from kaggle) (5.29.4)\n",
            "Requirement already satisfied: python-dateutil>=2.5.3 in /usr/local/lib/python3.11/dist-packages (from kaggle) (2.9.0.post0)\n",
            "Requirement already satisfied: python-slugify in /usr/local/lib/python3.11/dist-packages (from kaggle) (8.0.4)\n",
            "Requirement already satisfied: requests in /usr/local/lib/python3.11/dist-packages (from kaggle) (2.32.3)\n",
            "Requirement already satisfied: setuptools>=21.0.0 in /usr/local/lib/python3.11/dist-packages (from kaggle) (75.2.0)\n",
            "Requirement already satisfied: six>=1.10 in /usr/local/lib/python3.11/dist-packages (from kaggle) (1.17.0)\n",
            "Requirement already satisfied: text-unidecode in /usr/local/lib/python3.11/dist-packages (from kaggle) (1.3)\n",
            "Requirement already satisfied: tqdm in /usr/local/lib/python3.11/dist-packages (from kaggle) (4.67.1)\n",
            "Requirement already satisfied: urllib3>=1.15.1 in /usr/local/lib/python3.11/dist-packages (from kaggle) (2.4.0)\n",
            "Requirement already satisfied: webencodings in /usr/local/lib/python3.11/dist-packages (from kaggle) (0.5.1)\n"
          ]
        }
      ],
      "source": [
        "!pip install -U pip\n",
        "!pip install -U setuptools wheel\n",
        "!pip install -U \"mxnet<2.0.0\" bokeh==2.0.1\n",
        "!pip install autogluon --no-cache-dir\n"
      ]
    },
    {
      "cell_type": "code",
      "source": [
        "from google.colab import files\n",
        "files.upload()  # Upload kaggle.json when prompted\n"
      ],
      "metadata": {
        "id": "wR-uoSqS9N8g"
      },
      "execution_count": null,
      "outputs": []
    },
    {
      "cell_type": "code",
      "source": [
        "import json\n",
        "import os\n",
        "\n",
        "# Move kaggle.json to correct location and secure it\n",
        "os.makedirs(\"/root/.kaggle\", exist_ok=True)\n",
        "!mv kaggle.json /root/.kaggle/\n",
        "!chmod 600 /root/.kaggle/kaggle.json\n"
      ],
      "metadata": {
        "id": "gaJRk0W89TZa"
      },
      "execution_count": null,
      "outputs": []
    },
    {
      "cell_type": "code",
      "source": [
        "!kaggle competitions download -c bike-sharing-demand\n",
        "!unzip -o bike-sharing-demand.zip\n"
      ],
      "metadata": {
        "id": "Yv5pzzz99ZZA"
      },
      "execution_count": null,
      "outputs": []
    },
    {
      "cell_type": "code",
      "source": [
        "import pandas as pd\n",
        "from autogluon.tabular import TabularPredictor"
      ],
      "metadata": {
        "id": "aD0AqP8G9fVT"
      },
      "execution_count": null,
      "outputs": []
    },
    {
      "cell_type": "code",
      "source": [
        "# Load the training dataset with datetime parsing\n",
        "train = pd.read_csv(\"train.csv\", parse_dates=[\"datetime\"])\n",
        "print(\"Train DataFrame:\")\n",
        "display(train.head())"
      ],
      "metadata": {
        "id": "K0tf1U4O9iEt"
      },
      "execution_count": null,
      "outputs": []
    },
    {
      "cell_type": "code",
      "source": [
        "# Load the test dataset\n",
        "test = pd.read_csv(\"test.csv\", parse_dates=[\"datetime\"])\n",
        "print(\"Test DataFrame:\")\n",
        "display(test.head())"
      ],
      "metadata": {
        "id": "yr924F7d9xlZ"
      },
      "execution_count": null,
      "outputs": []
    },
    {
      "cell_type": "code",
      "source": [
        "# Load the sample submission file\n",
        "submission = pd.read_csv(\"sampleSubmission.csv\")\n",
        "print(\"Sample Submission:\")\n",
        "display(submission.head())"
      ],
      "metadata": {
        "id": "EJSiC9lf92si"
      },
      "execution_count": null,
      "outputs": []
    },
    {
      "cell_type": "code",
      "source": [
        "predictor = TabularPredictor(\n",
        "    label='count',\n",
        "    eval_metric='root_mean_squared_error'\n",
        ").fit(\n",
        "    train_data=train.drop(columns=[\"casual\", \"registered\"]),\n",
        "    time_limit=600,\n",
        "    presets='best_quality'\n",
        ")\n",
        "\n",
        "predictor.fit_summary()\n"
      ],
      "metadata": {
        "id": "eIz5o4u3ADJs"
      },
      "execution_count": null,
      "outputs": []
    },
    {
      "cell_type": "code",
      "source": [
        "# Generate predictions\n",
        "predictions = predictor.predict(test)"
      ],
      "metadata": {
        "id": "qdJtUkUPAJm6"
      },
      "execution_count": null,
      "outputs": []
    },
    {
      "cell_type": "code",
      "source": [
        "# Check for negatives\n",
        "print(predictions.describe())\n",
        "print(\"Negative values count:\", (predictions < 0).sum())"
      ],
      "metadata": {
        "id": "Vi9cPOY4APlU"
      },
      "execution_count": null,
      "outputs": []
    },
    {
      "cell_type": "code",
      "source": [
        "# Set any negatives to 0\n",
        "predictions[predictions < 0] = 0"
      ],
      "metadata": {
        "id": "ePf_xoFfAXFa"
      },
      "execution_count": null,
      "outputs": []
    },
    {
      "cell_type": "code",
      "source": [
        "# Prepare submission\n",
        "submission[\"count\"] = predictions\n",
        "submission.to_csv(\"submission.csv\", index=False)"
      ],
      "metadata": {
        "id": "OK4pNo3SAayN"
      },
      "execution_count": null,
      "outputs": []
    },
    {
      "cell_type": "code",
      "source": [
        "# Submit to Kaggle\n",
        "!kaggle competitions submit -c bike-sharing-demand -f submission.csv -m \"first raw submission\"\n",
        "!kaggle competitions submissions -c bike-sharing-demand | tail -n +1 | head -n 6"
      ],
      "metadata": {
        "id": "mPTNivKYAeKY"
      },
      "execution_count": null,
      "outputs": []
    }
  ]
}